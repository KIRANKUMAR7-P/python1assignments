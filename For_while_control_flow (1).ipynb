{
 "cells": [
  {
   "cell_type": "code",
   "execution_count": null,
   "metadata": {
    "colab": {
     "base_uri": "https://localhost:8080/"
    },
    "id": "_RrcywhgiN2-",
    "outputId": "ac17a335-07f1-4642-f29c-10c8f105dd22"
   },
   "outputs": [
    {
     "name": "stdout",
     "output_type": "stream",
     "text": [
      "0\n",
      "1\n",
      "2\n",
      "3\n",
      "4\n"
     ]
    }
   ],
   "source": [
    "# Basic for loop\n",
    "for i in range(5):\n",
    "  print(i)"
   ]
  },
  {
   "cell_type": "code",
   "execution_count": null,
   "metadata": {
    "colab": {
     "base_uri": "https://localhost:8080/"
    },
    "id": "IgyL7m1PiTLu",
    "outputId": "7bc5ccc4-5129-46c9-9f52-b21054240650"
   },
   "outputs": [
    {
     "name": "stdout",
     "output_type": "stream",
     "text": [
      "0\n",
      "1\n",
      "2\n",
      "3\n",
      "4\n"
     ]
    }
   ],
   "source": [
    "for apple in range(5): #doesn't touch end index\n",
    "  print(apple)"
   ]
  },
  {
   "cell_type": "markdown",
   "metadata": {
    "id": "vR5hMB_zik_Y"
   },
   "source": [
    "## range()"
   ]
  },
  {
   "cell_type": "code",
   "execution_count": null,
   "metadata": {
    "colab": {
     "base_uri": "https://localhost:8080/"
    },
    "id": "KGkFWdQCiYK2",
    "outputId": "7fc2cb7c-a589-4b40-939a-d832df751998"
   },
   "outputs": [
    {
     "name": "stdout",
     "output_type": "stream",
     "text": [
      "2\n",
      "4\n",
      "6\n",
      "8\n"
     ]
    }
   ],
   "source": [
    "for i in range(2,10,2): # start, end, step\n",
    "  print(i)"
   ]
  },
  {
   "cell_type": "code",
   "execution_count": null,
   "metadata": {
    "colab": {
     "base_uri": "https://localhost:8080/"
    },
    "id": "oNUSGQ0OirI0",
    "outputId": "b5781a19-eab6-449b-d6bc-e9db262ef6a8"
   },
   "outputs": [
    {
     "name": "stdout",
     "output_type": "stream",
     "text": [
      "0\n",
      "5\n",
      "10\n",
      "15\n",
      "20\n",
      "25\n",
      "30\n",
      "35\n",
      "40\n",
      "45\n",
      "50\n",
      "55\n",
      "60\n",
      "65\n",
      "70\n",
      "75\n",
      "80\n",
      "85\n",
      "90\n",
      "95\n",
      "100\n"
     ]
    }
   ],
   "source": [
    "# Multiples of 5 between 0 and 100\n",
    "for i in range(0,101,5):\n",
    "  print(i)"
   ]
  },
  {
   "cell_type": "code",
   "execution_count": null,
   "metadata": {
    "colab": {
     "base_uri": "https://localhost:8080/"
    },
    "id": "EhSbTotRjBSQ",
    "outputId": "1f5667cf-6471-4bd7-c991-e2e139fe7b26"
   },
   "outputs": [
    {
     "name": "stdout",
     "output_type": "stream",
     "text": [
      "0\n",
      "2\n",
      "3\n",
      "4\n",
      "5\n",
      "6\n",
      "8\n",
      "9\n",
      "10\n",
      "12\n",
      "14\n",
      "15\n",
      "16\n",
      "18\n",
      "20\n",
      "21\n",
      "22\n",
      "24\n",
      "25\n",
      "26\n",
      "27\n",
      "28\n",
      "30\n",
      "32\n",
      "33\n",
      "34\n",
      "35\n",
      "36\n",
      "38\n",
      "39\n",
      "40\n",
      "42\n",
      "44\n",
      "45\n",
      "46\n",
      "48\n",
      "50\n",
      "51\n",
      "52\n",
      "54\n",
      "55\n",
      "56\n",
      "57\n",
      "58\n",
      "60\n",
      "62\n",
      "63\n",
      "64\n",
      "65\n",
      "66\n",
      "68\n",
      "69\n",
      "70\n",
      "72\n",
      "74\n",
      "75\n",
      "76\n",
      "78\n",
      "80\n",
      "81\n",
      "82\n",
      "84\n",
      "85\n",
      "86\n",
      "87\n",
      "88\n",
      "90\n",
      "92\n",
      "93\n",
      "94\n",
      "95\n",
      "96\n",
      "98\n",
      "99\n",
      "100\n"
     ]
    }
   ],
   "source": [
    "# Print multiples of 2,3 and 5 between 0 and 100\n",
    "for i in range(0,101):\n",
    "  if i%2==0 or i%3==0 or i%5==0:\n",
    "    print(i)"
   ]
  },
  {
   "cell_type": "code",
   "execution_count": null,
   "metadata": {
    "colab": {
     "base_uri": "https://localhost:8080/"
    },
    "id": "GLXeT8Oukq3S",
    "outputId": "0404fb51-e4b1-4575-9568-4d773bce3964"
   },
   "outputs": [
    {
     "name": "stdout",
     "output_type": "stream",
     "text": [
      "0,2,3,4,5,6,8,9,10,12,14,15,16,18,20,21,22,24,25,26,27,28,30,32,33,34,35,36,38,39,40,42,44,45,46,48,50,51,52,54,55,56,57,58,60,62,63,64,65,66,68,69,70,72,74,75,76,78,80,81,82,84,85,86,87,88,90,92,93,94,95,96,98,99,100,"
     ]
    }
   ],
   "source": [
    "for i in range(0,101):\n",
    "  if i%2==0 or i%3==0 or i%5==0:\n",
    "    print(i,end=\",\")"
   ]
  },
  {
   "cell_type": "code",
   "execution_count": null,
   "metadata": {
    "colab": {
     "base_uri": "https://localhost:8080/"
    },
    "id": "X7u77TbelaJD",
    "outputId": "ed240650-399c-46c8-f6c2-7a813a8d2d36"
   },
   "outputs": [
    {
     "name": "stdout",
     "output_type": "stream",
     "text": [
      "10,9,8,7,6,5,4,3,2,1,"
     ]
    }
   ],
   "source": [
    "for i in range(10,0,-1): #decreasing sequence\n",
    "  print(i,end=\",\")"
   ]
  },
  {
   "cell_type": "code",
   "execution_count": null,
   "metadata": {
    "colab": {
     "base_uri": "https://localhost:8080/"
    },
    "id": "0ybwOSQCl69C",
    "outputId": "26d6a180-b951-4579-b154-db9d6436cd3b"
   },
   "outputs": [
    {
     "name": "stdout",
     "output_type": "stream",
     "text": [
      "\n",
      "* \n",
      "* * \n",
      "* * * \n",
      "* * * * \n"
     ]
    }
   ],
   "source": [
    "#Right angle triangle\n",
    "for i in range(5):\n",
    "  print(i*\"* \")"
   ]
  },
  {
   "cell_type": "code",
   "execution_count": null,
   "metadata": {
    "colab": {
     "base_uri": "https://localhost:8080/"
    },
    "id": "p9RO_uMamVSH",
    "outputId": "e7ca5947-ed1f-4edf-afa5-f1338da596da"
   },
   "outputs": [
    {
     "name": "stdout",
     "output_type": "stream",
     "text": [
      "* * * * * \n",
      "* * * * \n",
      "* * * \n",
      "* * \n",
      "* \n"
     ]
    }
   ],
   "source": [
    "#Reverse right triangle\n",
    "for i in range(5,0,-1):\n",
    "  print(i*\"* \")"
   ]
  },
  {
   "cell_type": "code",
   "execution_count": null,
   "metadata": {
    "colab": {
     "base_uri": "https://localhost:8080/"
    },
    "id": "9ptw8jYfowv_",
    "outputId": "7ae231e4-1181-4215-a6b4-dfd081f2f340"
   },
   "outputs": [
    {
     "name": "stdout",
     "output_type": "stream",
     "text": [
      "     \n",
      "    * \n",
      "   * * \n",
      "  * * * \n",
      " * * * * \n"
     ]
    }
   ],
   "source": [
    "# equilateral triangle\n",
    "for i in range(5):\n",
    "  print((5-i)*\" \"+i*\"* \")"
   ]
  },
  {
   "cell_type": "code",
   "execution_count": null,
   "metadata": {
    "colab": {
     "base_uri": "https://localhost:8080/"
    },
    "id": "HyYr1fecpjah",
    "outputId": "462096fd-eedb-43ce-b2dd-ff196b0950f1"
   },
   "outputs": [
    {
     "name": "stdout",
     "output_type": "stream",
     "text": [
      "* * * * * \n",
      " * * * * \n",
      "  * * * \n",
      "   * * \n",
      "    * \n"
     ]
    }
   ],
   "source": [
    "# reverse equilateral triangle\n",
    "for i in range(5):\n",
    "  print((i)*\" \"+(5-i)*\"* \")"
   ]
  },
  {
   "cell_type": "markdown",
   "metadata": {
    "id": "Mta0VRoosq8E"
   },
   "source": [
    "## Nested for loops"
   ]
  },
  {
   "cell_type": "code",
   "execution_count": null,
   "metadata": {
    "colab": {
     "base_uri": "https://localhost:8080/"
    },
    "id": "84bf-29kslGM",
    "outputId": "985ca146-dc7f-495c-bf48-fd6e8dc669e9"
   },
   "outputs": [
    {
     "name": "stdout",
     "output_type": "stream",
     "text": [
      "0 0\n",
      "0 1\n",
      "1 0\n",
      "1 1\n",
      "2 0\n",
      "2 1\n"
     ]
    }
   ],
   "source": [
    "for i in range(3):\n",
    "  for j in range(2):\n",
    "    print(i,j)"
   ]
  },
  {
   "cell_type": "code",
   "execution_count": null,
   "metadata": {
    "colab": {
     "base_uri": "https://localhost:8080/"
    },
    "id": "VsJXLpHCs6Hm",
    "outputId": "ea14f903-1c9b-4df9-eb2e-be2a3c114ba2"
   },
   "outputs": [
    {
     "name": "stdout",
     "output_type": "stream",
     "text": [
      "\n",
      "* \n",
      "* * \n",
      "* * * \n",
      "* * * * \n"
     ]
    }
   ],
   "source": [
    "# right traingle using nested for loop\n",
    "for i in range(5):\n",
    "  for j in range(i):\n",
    "    print(\"* \",end=\"\")\n",
    "  print()"
   ]
  },
  {
   "cell_type": "code",
   "execution_count": null,
   "metadata": {
    "colab": {
     "base_uri": "https://localhost:8080/"
    },
    "id": "xX2Dw5nnvckV",
    "outputId": "104b8b39-4a31-4ac8-a158-52a686788505"
   },
   "outputs": [
    {
     "name": "stdout",
     "output_type": "stream",
     "text": [
      "* * * * * \n",
      "* * * * \n",
      "* * * \n",
      "* * \n",
      "* \n"
     ]
    }
   ],
   "source": [
    "# reverse right triangle\n",
    "for i in range(5):\n",
    "  for j in range(5-i):\n",
    "    print(\"* \",end=\"\")\n",
    "  print()"
   ]
  },
  {
   "cell_type": "code",
   "execution_count": null,
   "metadata": {
    "colab": {
     "base_uri": "https://localhost:8080/"
    },
    "id": "GGfxh1IEyiI-",
    "outputId": "1ac68313-8785-46d5-83e6-670e95d5c27b"
   },
   "outputs": [
    {
     "name": "stdout",
     "output_type": "stream",
     "text": [
      "     \n",
      "    * \n",
      "   * * \n",
      "  * * * \n",
      " * * * * \n"
     ]
    }
   ],
   "source": [
    "# equilateral triangle\n",
    "for i in range(5):\n",
    "  for j in range(5-i):\n",
    "    print(\" \",end=\"\")\n",
    "  for k in range(i):\n",
    "    print(\"* \",end=\"\")\n",
    "  print()"
   ]
  },
  {
   "cell_type": "code",
   "execution_count": 1,
   "metadata": {
    "colab": {
     "base_uri": "https://localhost:8080/"
    },
    "id": "HcV59Mx0l0uk",
    "outputId": "5fc76a37-1143-462d-d983-6f9b1f5662f9"
   },
   "outputs": [
    {
     "name": "stdout",
     "output_type": "stream",
     "text": [
      "2,3,5,7,11,13,17,19,23,29,31,37,41,43,47,53,59,61,67,71,73,79,83,89,97,"
     ]
    }
   ],
   "source": [
    "# Printing prime no's between 1 and 100\n",
    "for i in range(2,101):\n",
    "  prime= True\n",
    "  for j in range(2,i):\n",
    "    if i%j==0:\n",
    "      prime=False\n",
    "  if prime:\n",
    "    print(i,end=',')"
   ]
  },
  {
   "cell_type": "markdown",
   "metadata": {
    "id": "exss7yeXwubR"
   },
   "source": [
    "## Iterating over a dictionary"
   ]
  },
  {
   "cell_type": "code",
   "execution_count": null,
   "metadata": {
    "id": "AZjM8HEJwxLV"
   },
   "outputs": [],
   "source": [
    "d={'a':1,'b':2,'c':3}"
   ]
  },
  {
   "cell_type": "code",
   "execution_count": null,
   "metadata": {
    "colab": {
     "base_uri": "https://localhost:8080/"
    },
    "id": "XqylSa5rw4uq",
    "outputId": "cf17d740-b88b-47ae-bd80-26a1c1dbf2f1"
   },
   "outputs": [
    {
     "name": "stdout",
     "output_type": "stream",
     "text": [
      "a 1\n",
      "b 2\n",
      "c 3\n"
     ]
    }
   ],
   "source": [
    "for i in d:\n",
    "  print(i,d[i])"
   ]
  },
  {
   "cell_type": "code",
   "execution_count": null,
   "metadata": {
    "colab": {
     "base_uri": "https://localhost:8080/"
    },
    "id": "_od7KqW7zhhn",
    "outputId": "b8e1403e-28f3-43fa-cad3-3b6016815f58"
   },
   "outputs": [
    {
     "name": "stdout",
     "output_type": "stream",
     "text": [
      "What's your name: MAurya\n",
      "Welcome!\n"
     ]
    }
   ],
   "source": [
    "# Check if a user in database\n",
    "attendees = ['Revan', 'Pranay', 'Akshay']\n",
    "trainer = 'Maurya'\n",
    "user_inp = input(\"What's your name: \")\n",
    "if user_inp.capitalize() in attendees or user_inp.capitalize() in trainer:\n",
    "  print(\"Welcome!\")\n",
    "else:\n",
    "  print(\"Please register yourself first!\")"
   ]
  },
  {
   "cell_type": "code",
   "execution_count": null,
   "metadata": {
    "colab": {
     "base_uri": "https://localhost:8080/"
    },
    "id": "Zjjwk6Naljjv",
    "outputId": "0a418526-7518-4ca1-e72a-387365b3451f"
   },
   "outputs": [
    {
     "data": {
      "text/plain": [
       "{'Ram': 51, 'Sita': 51, 'Lax': 48, 'Hanu': 52}"
      ]
     },
     "execution_count": 3,
     "metadata": {},
     "output_type": "execute_result"
    }
   ],
   "source": [
    "# Updating attendence of students\n",
    "stud = {\"Ram\":50,\"Sita\":51,\"Lax\":48,\"Hanu\":51}\n",
    "today = [\"Ram\",\"Hanu\"]\n",
    "for i in today:\n",
    "  if i in stud:\n",
    "    stud[i]+=1\n",
    "stud"
   ]
  },
  {
   "cell_type": "code",
   "execution_count": null,
   "metadata": {
    "colab": {
     "base_uri": "https://localhost:8080/",
     "height": 35
    },
    "id": "haftsWLn0lSs",
    "outputId": "fb032cca-41ff-4af4-c92c-af4109150e56"
   },
   "outputs": [
    {
     "data": {
      "application/vnd.google.colaboratory.intrinsic+json": {
       "type": "string"
      },
      "text/plain": [
       "'RAm'"
      ]
     },
     "execution_count": 6,
     "metadata": {},
     "output_type": "execute_result"
    }
   ],
   "source": [
    "\"Ram\".replace(\"a\",\"A\")"
   ]
  },
  {
   "cell_type": "code",
   "execution_count": 2,
   "metadata": {
    "colab": {
     "base_uri": "https://localhost:8080/",
     "height": 36
    },
    "id": "yfqjbAr82y1C",
    "outputId": "8a56902c-0c04-4a5c-f113-7ae1db103fad"
   },
   "outputs": [
    {
     "data": {
      "application/vnd.google.colaboratory.intrinsic+json": {
       "type": "string"
      },
      "text/plain": [
       "'C'"
      ]
     },
     "execution_count": 2,
     "metadata": {},
     "output_type": "execute_result"
    }
   ],
   "source": [
    "#Cup Swap\n",
    "pos = \"B\"\n",
    "swaps = [\"AB\",\"BC\",\"CA\"]\n",
    "\n",
    "for i in swaps:\n",
    "  if pos in i:\n",
    "    pos = i.replace(pos,\"\")\n",
    "pos"
   ]
  },
  {
   "cell_type": "code",
   "execution_count": null,
   "metadata": {
    "colab": {
     "base_uri": "https://localhost:8080/"
    },
    "id": "NscWrGoa4ket",
    "outputId": "2c6fe4ed-eddf-44c6-eb0c-b594d9a53571"
   },
   "outputs": [
    {
     "name": "stdout",
     "output_type": "stream",
     "text": [
      "Enter a number:5\n"
     ]
    },
    {
     "data": {
      "text/plain": [
       "120"
      ]
     },
     "execution_count": 2,
     "metadata": {},
     "output_type": "execute_result"
    }
   ],
   "source": [
    "#Calculate factorial of a number\n",
    "f = int(input(\"Enter a number:\"))\n",
    "fact = 1\n",
    "for i in range(1,f+1):\n",
    "  fact*=i\n",
    "fact"
   ]
  },
  {
   "cell_type": "markdown",
   "metadata": {
    "id": "r8rBIFFk7UuA"
   },
   "source": [
    "# While loop"
   ]
  },
  {
   "cell_type": "code",
   "execution_count": 3,
   "metadata": {
    "colab": {
     "base_uri": "https://localhost:8080/"
    },
    "id": "hwfqcaKr6iSO",
    "outputId": "0addd621-8135-428c-b07c-f66c0f396083"
   },
   "outputs": [
    {
     "name": "stdout",
     "output_type": "stream",
     "text": [
      "Eat more\n",
      "Are you still hungry?yes\n",
      "Eat more\n",
      "Are you still hungry?yes\n",
      "Eat more\n",
      "Are you still hungry?yes\n",
      "Eat more\n",
      "Are you still hungry?no\n",
      "Eating done!\n"
     ]
    }
   ],
   "source": [
    "hungry = \"yes\"\n",
    "while hungry==\"yes\": #Beware of conditions that are always true\n",
    "  print(\"Eat more\")\n",
    "  hungry=input(\"Are you still hungry?\")\n",
    "print(\"Eating done!\")"
   ]
  },
  {
   "cell_type": "code",
   "execution_count": 4,
   "metadata": {
    "colab": {
     "base_uri": "https://localhost:8080/"
    },
    "id": "5CRC3DtE7_67",
    "outputId": "d7dbb490-8bca-454a-c823-a737933fccba"
   },
   "outputs": [
    {
     "name": "stdout",
     "output_type": "stream",
     "text": [
      "Enter a number:6\n"
     ]
    },
    {
     "data": {
      "text/plain": [
       "720"
      ]
     },
     "execution_count": 4,
     "metadata": {},
     "output_type": "execute_result"
    }
   ],
   "source": [
    "#Factorial using while\n",
    "f = int(input(\"Enter a number:\"))\n",
    "fact = 1\n",
    "while f>0:\n",
    "  fact *= f\n",
    "  f-=1\n",
    "fact\n"
   ]
  },
  {
   "cell_type": "markdown",
   "metadata": {
    "id": "uogHzXEN-wdf"
   },
   "source": [
    "## Control flow statements"
   ]
  },
  {
   "cell_type": "markdown",
   "metadata": {
    "id": "r8CWKUAb_Py9"
   },
   "source": [
    "### Pass\n",
    "Placeholder for doing nothing"
   ]
  },
  {
   "cell_type": "code",
   "execution_count": null,
   "metadata": {
    "colab": {
     "base_uri": "https://localhost:8080/"
    },
    "id": "wMf8Pku39XpF",
    "outputId": "396d0e47-005b-4517-8d20-6cf59c8836e8"
   },
   "outputs": [
    {
     "name": "stdout",
     "output_type": "stream",
     "text": [
      "4\n",
      "3\n",
      "2\n",
      "1\n",
      "0\n"
     ]
    }
   ],
   "source": [
    "no = 5\n",
    "while no>0:\n",
    "  no-=1\n",
    "  if no == 3:\n",
    "    pass\n",
    "  print(no)"
   ]
  },
  {
   "cell_type": "markdown",
   "metadata": {
    "id": "M_Gu4kuSAVc7"
   },
   "source": [
    "### Continue\n",
    "Skips the current iteration"
   ]
  },
  {
   "cell_type": "code",
   "execution_count": null,
   "metadata": {
    "colab": {
     "base_uri": "https://localhost:8080/"
    },
    "id": "zcK0HtpeATlk",
    "outputId": "a0a094c0-c297-4dbf-c633-f28bceff362f"
   },
   "outputs": [
    {
     "name": "stdout",
     "output_type": "stream",
     "text": [
      "4\n",
      "2\n",
      "1\n",
      "0\n"
     ]
    }
   ],
   "source": [
    "no = 5\n",
    "while no>0:\n",
    "  no-=1\n",
    "  if no == 3: #3 will be skipped\n",
    "    continue\n",
    "  print(no)"
   ]
  },
  {
   "cell_type": "markdown",
   "metadata": {
    "id": "Oo2Mpq3RAjNp"
   },
   "source": [
    "### Break\n",
    "Completely stops the loop"
   ]
  },
  {
   "cell_type": "code",
   "execution_count": null,
   "metadata": {
    "colab": {
     "base_uri": "https://localhost:8080/"
    },
    "id": "UMnCt3IQ_J37",
    "outputId": "7a7851cb-cf2a-40a8-9507-489b23f367ac"
   },
   "outputs": [
    {
     "name": "stdout",
     "output_type": "stream",
     "text": [
      "4\n"
     ]
    }
   ],
   "source": [
    "no = 5\n",
    "while no>0:\n",
    "  no-=1\n",
    "  if no == 3: #loop breaks when no=3\n",
    "    break\n",
    "  print(no)"
   ]
  },
  {
   "cell_type": "markdown",
   "metadata": {
    "id": "y15neONyk5-B"
   },
   "source": [
    "### Print multiples of 2,3 and 5 but not of 6,10 and 15 between 1 and 100"
   ]
  },
  {
   "cell_type": "code",
   "execution_count": null,
   "metadata": {
    "colab": {
     "base_uri": "https://localhost:8080/"
    },
    "id": "nFfQPJt4AurY",
    "outputId": "bf107a75-0c68-42bd-9b4f-a629688a6e07"
   },
   "outputs": [
    {
     "name": "stdout",
     "output_type": "stream",
     "text": [
      "2,3,4,5,8,9,14,16,21,22,25,26,27,28,32,33,34,35,38,39,44,46,51,52,55,56,57,58,62,63,64,65,68,69,74,76,81,82,85,86,87,88,92,93,94,95,98,99,"
     ]
    }
   ],
   "source": [
    "#Method 1\n",
    "for i in range(1,101):\n",
    "  if (i%2==0 or i%3==0 or i%5==0) and (i%6!=0 and i%10!=0 and i%15!=0):\n",
    "    print(i,end=\",\")"
   ]
  },
  {
   "cell_type": "code",
   "execution_count": null,
   "metadata": {
    "colab": {
     "base_uri": "https://localhost:8080/"
    },
    "id": "49H6134wmIy3",
    "outputId": "ce57cfb0-9345-44cd-d9fb-41a480ba1ddc"
   },
   "outputs": [
    {
     "name": "stdout",
     "output_type": "stream",
     "text": [
      "2 3 4 5 8 9 14 16 21 22 25 26 27 28 32 33 34 35 38 39 44 46 51 52 55 56 57 58 62 63 64 65 68 69 74 76 81 82 85 86 87 88 92 93 94 95 98 99 "
     ]
    }
   ],
   "source": [
    "#Method 2\n",
    "for i in range(1,101):\n",
    "  if i%6==0 or i%10==0 or i%15==0:\n",
    "    continue\n",
    "  elif i%2==0 or i%3==0 or i%5==0:\n",
    "    print(i,end=\" \")\n",
    "  else:\n",
    "    pass"
   ]
  },
  {
   "cell_type": "code",
   "execution_count": null,
   "metadata": {
    "id": "FU7mZLNXm7P5"
   },
   "outputs": [],
   "source": []
  }
 ],
 "metadata": {
  "colab": {
   "provenance": []
  },
  "kernelspec": {
   "display_name": "Python 3 (ipykernel)",
   "language": "python",
   "name": "python3"
  },
  "language_info": {
   "codemirror_mode": {
    "name": "ipython",
    "version": 3
   },
   "file_extension": ".py",
   "mimetype": "text/x-python",
   "name": "python",
   "nbconvert_exporter": "python",
   "pygments_lexer": "ipython3",
   "version": "3.9.13"
  }
 },
 "nbformat": 4,
 "nbformat_minor": 1
}
