{
 "cells": [
  {
   "cell_type": "markdown",
   "id": "421b608b",
   "metadata": {},
   "source": [
    "### 1. Write a python program to convert a string to lower case"
   ]
  },
  {
   "cell_type": "code",
   "execution_count": 18,
   "id": "beb5445e",
   "metadata": {},
   "outputs": [
    {
     "data": {
      "text/plain": [
       "'kirankumar'"
      ]
     },
     "execution_count": 18,
     "metadata": {},
     "output_type": "execute_result"
    }
   ],
   "source": [
    "p=\"KIRANKUMAR\"\n",
    "p.lower()\n"
   ]
  },
  {
   "cell_type": "markdown",
   "id": "49738c4f",
   "metadata": {},
   "source": [
    "### 2. Write a python program to convert only odd indexed characters to lower case\n"
   ]
  },
  {
   "cell_type": "code",
   "execution_count": 11,
   "id": "ecd33633",
   "metadata": {},
   "outputs": [
    {
     "name": "stdout",
     "output_type": "stream",
     "text": [
      "iNnOmAtIcS LaBs\n"
     ]
    }
   ],
   "source": [
    "a=\"INNOMATICS LABS\"\n",
    "b= []\n",
    "for i in range(len(a)):\n",
    " if i % 2==0:\n",
    "     b.append(a[i].lower())\n",
    "\n",
    " else:\n",
    "      b.append(a[i].upper())\n",
    "\n",
    "print( b)\n"
   ]
  },
  {
   "cell_type": "markdown",
   "id": "2661ddd2",
   "metadata": {},
   "source": [
    "### 3. Write a python program to convert only even indexed characters to lower case\n"
   ]
  },
  {
   "cell_type": "code",
   "execution_count": 10,
   "id": "4b69d83b",
   "metadata": {},
   "outputs": [
    {
     "name": "stdout",
     "output_type": "stream",
     "text": [
      "InNoMaTiCs lAbS\n"
     ]
    }
   ],
   "source": [
    "a=\"INNOMATICS LABS\"\n",
    "b= []\n",
    "for i in range(len(a)):\n",
    " if i %2!=0:\n",
    "     b.append(a[i].lower())\n",
    "\n",
    " else:\n",
    "     b.append(a[i].upper())\n",
    "\n",
    "print( b)\n"
   ]
  },
  {
   "cell_type": "markdown",
   "id": "2b05df64",
   "metadata": {},
   "source": [
    "### 4. Write a python program to convert only odd indexed characters to upper case\n"
   ]
  },
  {
   "cell_type": "code",
   "execution_count": 9,
   "id": "754ea0ce",
   "metadata": {},
   "outputs": [
    {
     "name": "stdout",
     "output_type": "stream",
     "text": [
      "InNoMaTiCs lAbS\n"
     ]
    }
   ],
   "source": [
    "a=\"INNOMATICS LABS\"\n",
    "b=[]\n",
    "for i in range(len(a)):\n",
    " if i % 2==0:\n",
    "     b.append(a[i].upper())\n",
    " else:\n",
    "     b.append(a[i].lower())\n",
    "\n",
    "print( b)\n"
   ]
  },
  {
   "cell_type": "markdown",
   "id": "36828c37",
   "metadata": {},
   "source": [
    " ### 5. Write a python program to convert only even indexed characters to upper case"
   ]
  },
  {
   "cell_type": "code",
   "execution_count": 29,
   "id": "d2fdc102",
   "metadata": {},
   "outputs": [
    {
     "name": "stdout",
     "output_type": "stream",
     "text": [
      "['i', 'N', 'n', 'O', 'm', 'A', 't', 'I', 'c', 'S', ' ', 'L', 'a', 'B', 's']\n"
     ]
    }
   ],
   "source": [
    "a=\"INNOMATICS LABS\"\n",
    "b=[]\n",
    "for i in range(len(a)):\n",
    " if i %2!=0:\n",
    "     b.append(a[i].upper())\n",
    " else:\n",
    "     b.append(a[i].lower())\n",
    "\n",
    "print( b)\n"
   ]
  },
  {
   "cell_type": "markdown",
   "id": "20de5bef",
   "metadata": {},
   "source": [
    "### 6. Write a python program where you have different variable which contains your name, gender, age, phone number, father’s name and mother’s name. And byusing this variable create a variable named bio-data where you will use all this variable"
   ]
  },
  {
   "cell_type": "code",
   "execution_count": 14,
   "id": "37c150df",
   "metadata": {},
   "outputs": [
    {
     "name": "stdout",
     "output_type": "stream",
     "text": [
      "My name is kirankumar, My age is 25,My phone-no is 8247431205,my father’s name is Sujeeva rao ,and my mother’s name is meri\n"
     ]
    }
   ],
   "source": [
    "a=\"kirankumar\"\n",
    "b=\"male\"\n",
    "c=25\n",
    "d=8247431205\n",
    "e=\"Sujeeva rao\"\n",
    "f=\"meri\"\n",
    "bio_data=print(\"My name is {}, My age is {},My phone-no is {},my father’s name is {} ,and my mother’s name is {}\".format(a,c,d,e,f))"
   ]
  },
  {
   "cell_type": "markdown",
   "id": "8e21ea80",
   "metadata": {},
   "source": [
    "### 7. Write a python program to count how many times “@” occurred"
   ]
  },
  {
   "cell_type": "code",
   "execution_count": 33,
   "id": "38903a9a",
   "metadata": {},
   "outputs": [
    {
     "name": "stdout",
     "output_type": "stream",
     "text": [
      "k@I@R@A@N K@U@M@A@R\n",
      "no of  count value: 8\n"
     ]
    }
   ],
   "source": [
    "k=\"k@I@R@A@N K@U@M@A@R\"\n",
    "print(k)\n",
    "o=k.count(\"@\")\n",
    "print(\"no of  count value:\",o)"
   ]
  },
  {
   "cell_type": "markdown",
   "id": "838fe739",
   "metadata": {},
   "source": [
    "### 8. Write a python program to get only names from the string"
   ]
  },
  {
   "cell_type": "code",
   "execution_count": 37,
   "id": "b392b44e",
   "metadata": {},
   "outputs": [
    {
     "name": "stdout",
     "output_type": "stream",
     "text": [
      " enter the 1st email: saimaruthi388@gmail.com\n",
      " enter the 2nd email: admin@yourstore.com\n",
      " enter the 3rd email: kkassociates129@gmail.com\n",
      "saimaruthi388,admin,kkassociates129\n"
     ]
    }
   ],
   "source": [
    "k1=input(\" enter the 1st email: \")\n",
    "k2=input(\" enter the 2nd email: \")\n",
    "k3=input(\" enter the 3rd email: \")\n",
    "a=k1.split(\"@\")\n",
    "b=k2.split(\"@\")\n",
    "c=k3.split(\"@\")\n",
    "print(a[0],b[0],c[0],sep=',')"
   ]
  },
  {
   "cell_type": "markdown",
   "id": "971ac4cf",
   "metadata": {},
   "source": [
    "### 9. Write a program to remove vowels from the entire alphabets"
   ]
  },
  {
   "cell_type": "code",
   "execution_count": 46,
   "id": "d0c2646c",
   "metadata": {},
   "outputs": [
    {
     "name": "stdout",
     "output_type": "stream",
     "text": [
      "Enter String: abcdefghiklmnopqrstuvwxyz\n",
      "\n",
      "Without Vowels = bcdfghklmnpqrstvwxyz\n"
     ]
    }
   ],
   "source": [
    "\n",
    "text = input(\"Enter String: \")\n",
    "\n",
    "vowels = ['a', 'e', 'i', 'o', 'u', 'A', 'E', 'I', 'O', 'U']\n",
    "newtext = \"\"\n",
    "\n",
    "for c in text:\n",
    "    if c not in vowels:\n",
    "        newtext = newtext + c\n",
    "text = newtext\n",
    "print(\"\\nWithout Vowels =\", text)"
   ]
  },
  {
   "cell_type": "markdown",
   "id": "99a10d6a",
   "metadata": {},
   "source": [
    "### 10. Find all occurrences of a substring in a given string by ignoring the case"
   ]
  },
  {
   "cell_type": "code",
   "execution_count": 60,
   "id": "7bb9590c",
   "metadata": {},
   "outputs": [
    {
     "name": "stdout",
     "output_type": "stream",
     "text": [
      "the count repated words: 2\n"
     ]
    }
   ],
   "source": [
    "str1=\"Welcome to Innomatics.innomatics\"\n",
    "str1=str1.lower()\n",
    "sub_string=\"innomatics\"\n",
    "count=str1.count(sub_string)\n",
    "print(\"the count repated words:\",count)"
   ]
  },
  {
   "cell_type": "code",
   "execution_count": null,
   "id": "949caafc",
   "metadata": {},
   "outputs": [],
   "source": []
  }
 ],
 "metadata": {
  "kernelspec": {
   "display_name": "Python 3 (ipykernel)",
   "language": "python",
   "name": "python3"
  },
  "language_info": {
   "codemirror_mode": {
    "name": "ipython",
    "version": 3
   },
   "file_extension": ".py",
   "mimetype": "text/x-python",
   "name": "python",
   "nbconvert_exporter": "python",
   "pygments_lexer": "ipython3",
   "version": "3.9.13"
  }
 },
 "nbformat": 4,
 "nbformat_minor": 5
}
