{
 "cells": [
  {
   "cell_type": "markdown",
   "id": "c9503980",
   "metadata": {},
   "source": [
    "## 1.Find elements frequency in Tuple"
   ]
  },
  {
   "cell_type": "code",
   "execution_count": 2,
   "id": "8d38f3db",
   "metadata": {},
   "outputs": [
    {
     "data": {
      "text/plain": [
       "{4: 2, 5: 3, 6: 2}"
      ]
     },
     "execution_count": 2,
     "metadata": {},
     "output_type": "execute_result"
    }
   ],
   "source": [
    "s=(4, 5, 4, 5, 6, 6, 5) \n",
    "l=list(s)\n",
    "k=dict()\n",
    "for i in l:\n",
    "    k[i]=l.count(i)\n",
    "k"
   ]
  },
  {
   "cell_type": "markdown",
   "id": "f3472eba",
   "metadata": {},
   "source": [
    "## 2.Python program to sort a list of tuples alphabetically"
   ]
  },
  {
   "cell_type": "code",
   "execution_count": 4,
   "id": "f21424ee",
   "metadata": {},
   "outputs": [
    {
     "name": "stdout",
     "output_type": "stream",
     "text": [
      "[('aa', 30), ('aaaa', 28), ('bab', 29), ('bb', 21), ('csa', 'C')]\n"
     ]
    }
   ],
   "source": [
    "k=[(\"aaaa\", 28), (\"aa\", 30), (\"bab\", 29), (\"bb\", 21), (\"csa\", \"C\")]\n",
    "k.sort()\n",
    "print(k)"
   ]
  },
  {
   "cell_type": "markdown",
   "id": "fcf4486e",
   "metadata": {},
   "source": [
    "## 3.Write a Python program to calculate the average value of the numbers in a given tuple of tuples"
   ]
  },
  {
   "cell_type": "code",
   "execution_count": 1,
   "id": "f65c781f",
   "metadata": {},
   "outputs": [
    {
     "data": {
      "text/plain": [
       "[25.5, -18.0, 3.75]"
      ]
     },
     "execution_count": 1,
     "metadata": {},
     "output_type": "execute_result"
    }
   ],
   "source": [
    "def average_tuple(nums):\n",
    "    result = [sum(x) / len(x) for x in zip(*nums)]\n",
    "    return result\n",
    "\n",
    "nums = ((1, 1, -5), (30, -15, 56), (81, -60, -39), (-10, 2,3))\n",
    "average_tuple(nums)\n"
   ]
  }
 ],
 "metadata": {
  "kernelspec": {
   "display_name": "Python 3 (ipykernel)",
   "language": "python",
   "name": "python3"
  },
  "language_info": {
   "codemirror_mode": {
    "name": "ipython",
    "version": 3
   },
   "file_extension": ".py",
   "mimetype": "text/x-python",
   "name": "python",
   "nbconvert_exporter": "python",
   "pygments_lexer": "ipython3",
   "version": "3.9.13"
  }
 },
 "nbformat": 4,
 "nbformat_minor": 5
}
